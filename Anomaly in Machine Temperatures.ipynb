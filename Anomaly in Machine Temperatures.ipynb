{
 "cells": [
  {
   "cell_type": "code",
   "execution_count": 1,
   "metadata": {},
   "outputs": [
    {
     "name": "stderr",
     "output_type": "stream",
     "text": [
      "Using TensorFlow backend.\n"
     ]
    }
   ],
   "source": [
    "import pandas as pd\n",
    "import numpy as np\n",
    "import matplotlib.pyplot as plt\n",
    "import cv2\n",
    "import tensorflow as tf\n",
    "import keras"
   ]
  },
  {
   "cell_type": "code",
   "execution_count": 2,
   "metadata": {},
   "outputs": [],
   "source": [
    "machine_temp=pd.read_csv('machine_temperature_system_failure.csv')"
   ]
  },
  {
   "cell_type": "code",
   "execution_count": 3,
   "metadata": {},
   "outputs": [
    {
     "data": {
      "text/html": [
       "<div>\n",
       "<style scoped>\n",
       "    .dataframe tbody tr th:only-of-type {\n",
       "        vertical-align: middle;\n",
       "    }\n",
       "\n",
       "    .dataframe tbody tr th {\n",
       "        vertical-align: top;\n",
       "    }\n",
       "\n",
       "    .dataframe thead th {\n",
       "        text-align: right;\n",
       "    }\n",
       "</style>\n",
       "<table border=\"1\" class=\"dataframe\">\n",
       "  <thead>\n",
       "    <tr style=\"text-align: right;\">\n",
       "      <th></th>\n",
       "      <th>timestamp</th>\n",
       "      <th>value</th>\n",
       "    </tr>\n",
       "  </thead>\n",
       "  <tbody>\n",
       "    <tr>\n",
       "      <th>0</th>\n",
       "      <td>2013-12-02 21:15:00</td>\n",
       "      <td>73.967322</td>\n",
       "    </tr>\n",
       "    <tr>\n",
       "      <th>1</th>\n",
       "      <td>2013-12-02 21:20:00</td>\n",
       "      <td>74.935882</td>\n",
       "    </tr>\n",
       "    <tr>\n",
       "      <th>2</th>\n",
       "      <td>2013-12-02 21:25:00</td>\n",
       "      <td>76.124162</td>\n",
       "    </tr>\n",
       "    <tr>\n",
       "      <th>3</th>\n",
       "      <td>2013-12-02 21:30:00</td>\n",
       "      <td>78.140707</td>\n",
       "    </tr>\n",
       "    <tr>\n",
       "      <th>4</th>\n",
       "      <td>2013-12-02 21:35:00</td>\n",
       "      <td>79.329836</td>\n",
       "    </tr>\n",
       "  </tbody>\n",
       "</table>\n",
       "</div>"
      ],
      "text/plain": [
       "             timestamp      value\n",
       "0  2013-12-02 21:15:00  73.967322\n",
       "1  2013-12-02 21:20:00  74.935882\n",
       "2  2013-12-02 21:25:00  76.124162\n",
       "3  2013-12-02 21:30:00  78.140707\n",
       "4  2013-12-02 21:35:00  79.329836"
      ]
     },
     "execution_count": 3,
     "metadata": {},
     "output_type": "execute_result"
    }
   ],
   "source": [
    "machine_temp.head()"
   ]
  },
  {
   "cell_type": "code",
   "execution_count": 4,
   "metadata": {},
   "outputs": [],
   "source": [
    "machine_temp.timestamp=pd.to_datetime(machine_temp.timestamp)"
   ]
  },
  {
   "cell_type": "code",
   "execution_count": 5,
   "metadata": {},
   "outputs": [],
   "source": [
    "machine_temp.set_index('timestamp',inplace=True)"
   ]
  },
  {
   "cell_type": "code",
   "execution_count": 6,
   "metadata": {},
   "outputs": [
    {
     "data": {
      "text/html": [
       "<div>\n",
       "<style scoped>\n",
       "    .dataframe tbody tr th:only-of-type {\n",
       "        vertical-align: middle;\n",
       "    }\n",
       "\n",
       "    .dataframe tbody tr th {\n",
       "        vertical-align: top;\n",
       "    }\n",
       "\n",
       "    .dataframe thead th {\n",
       "        text-align: right;\n",
       "    }\n",
       "</style>\n",
       "<table border=\"1\" class=\"dataframe\">\n",
       "  <thead>\n",
       "    <tr style=\"text-align: right;\">\n",
       "      <th></th>\n",
       "      <th>value</th>\n",
       "    </tr>\n",
       "    <tr>\n",
       "      <th>timestamp</th>\n",
       "      <th></th>\n",
       "    </tr>\n",
       "  </thead>\n",
       "  <tbody>\n",
       "    <tr>\n",
       "      <th>2013-12-02 21:15:00</th>\n",
       "      <td>73.967322</td>\n",
       "    </tr>\n",
       "    <tr>\n",
       "      <th>2013-12-02 21:20:00</th>\n",
       "      <td>74.935882</td>\n",
       "    </tr>\n",
       "    <tr>\n",
       "      <th>2013-12-02 21:25:00</th>\n",
       "      <td>76.124162</td>\n",
       "    </tr>\n",
       "    <tr>\n",
       "      <th>2013-12-02 21:30:00</th>\n",
       "      <td>78.140707</td>\n",
       "    </tr>\n",
       "    <tr>\n",
       "      <th>2013-12-02 21:35:00</th>\n",
       "      <td>79.329836</td>\n",
       "    </tr>\n",
       "  </tbody>\n",
       "</table>\n",
       "</div>"
      ],
      "text/plain": [
       "                         value\n",
       "timestamp                     \n",
       "2013-12-02 21:15:00  73.967322\n",
       "2013-12-02 21:20:00  74.935882\n",
       "2013-12-02 21:25:00  76.124162\n",
       "2013-12-02 21:30:00  78.140707\n",
       "2013-12-02 21:35:00  79.329836"
      ]
     },
     "execution_count": 6,
     "metadata": {},
     "output_type": "execute_result"
    }
   ],
   "source": [
    "machine_temp.head()"
   ]
  },
  {
   "cell_type": "code",
   "execution_count": 7,
   "metadata": {},
   "outputs": [
    {
     "data": {
      "text/plain": [
       "<matplotlib.legend.Legend at 0x2340ae6f8d0>"
      ]
     },
     "execution_count": 7,
     "metadata": {},
     "output_type": "execute_result"
    },
    {
     "data": {
      "image/png": "[encoded data removed]",
      "text/plain": [
       "<Figure size 1080x360 with 1 Axes>"
      ]
     },
     "metadata": {
      "needs_background": "light"
     },
     "output_type": "display_data"
    }
   ],
   "source": [
    "plt.figure(figsize=(19,1))\n",
    "machine_temp['value'].plot(figsize=(15,5))\n",
    "\n",
    "plt.legend()"
   ]
  },
  {
   "cell_type": "code",
   "execution_count": 8,
   "metadata": {},
   "outputs": [
    {
     "data": {
      "text/plain": [
       "(22695, 1)"
      ]
     },
     "execution_count": 8,
     "metadata": {},
     "output_type": "execute_result"
    }
   ],
   "source": [
    "machine_temp.shape"
   ]
  },
  {
   "cell_type": "code",
   "execution_count": 9,
   "metadata": {},
   "outputs": [],
   "source": [
    "dataset_train=machine_temp[0:15887]\n",
    "training_set = dataset_train.iloc[:,:].values"
   ]
  },
  {
   "cell_type": "code",
   "execution_count": 10,
   "metadata": {},
   "outputs": [
    {
     "data": {
      "text/plain": [
       "15887"
      ]
     },
     "execution_count": 10,
     "metadata": {},
     "output_type": "execute_result"
    }
   ],
   "source": [
    "training_set.size"
   ]
  },
  {
   "cell_type": "code",
   "execution_count": 11,
   "metadata": {},
   "outputs": [],
   "source": [
    "dataset_test=machine_temp[15887:22696]\n",
    "test_set = dataset_test.iloc[:,:].values"
   ]
  },
  {
   "cell_type": "code",
   "execution_count": 12,
   "metadata": {},
   "outputs": [
    {
     "data": {
      "text/plain": [
       "array([[86.68873144],\n",
       "       [88.05350336],\n",
       "       [88.44241872],\n",
       "       ...,\n",
       "       [97.13546835],\n",
       "       [98.05685212],\n",
       "       [96.90386085]])"
      ]
     },
     "execution_count": 12,
     "metadata": {},
     "output_type": "execute_result"
    }
   ],
   "source": [
    "test_set"
   ]
  },
  {
   "cell_type": "code",
   "execution_count": 13,
   "metadata": {},
   "outputs": [
    {
     "data": {
      "text/plain": [
       "6808"
      ]
     },
     "execution_count": 13,
     "metadata": {},
     "output_type": "execute_result"
    }
   ],
   "source": [
    "test_set.size"
   ]
  },
  {
   "cell_type": "code",
   "execution_count": 14,
   "metadata": {},
   "outputs": [],
   "source": [
    "# Feature Scaling\n",
    "from sklearn.preprocessing import MinMaxScaler\n",
    "sc = MinMaxScaler(feature_range = (0, 1))\n",
    "training_set_scaled = sc.fit_transform(training_set)"
   ]
  },
  {
   "cell_type": "code",
   "execution_count": 15,
   "metadata": {},
   "outputs": [],
   "source": [
    "# Creating a data structure with 50 timesteps and 1 output\n",
    "X_train = []\n",
    "y_train = []\n",
    "for i in range(50, 15887):\n",
    "    X_train.append(training_set_scaled[i-50:i, 0])\n",
    "    y_train.append(training_set_scaled[i, 0])\n",
    "X_train, y_train = np.array(X_train), np.array(y_train)"
   ]
  },
  {
   "cell_type": "code",
   "execution_count": 16,
   "metadata": {},
   "outputs": [
    {
     "data": {
      "text/plain": [
       "array([[0.67542444, 0.68452524, 0.69569057, ..., 0.76438801, 0.78081281,\n",
       "        0.78232803],\n",
       "       [0.68452524, 0.69569057, 0.71463847, ..., 0.78081281, 0.78232803,\n",
       "        0.77600754],\n",
       "       [0.69569057, 0.71463847, 0.72581178, ..., 0.78232803, 0.77600754,\n",
       "        0.78193468],\n",
       "       ...,\n",
       "       [0.85369376, 0.83734773, 0.82924448, ..., 0.81169949, 0.81099832,\n",
       "        0.81299425],\n",
       "       [0.83734773, 0.82924448, 0.82893577, ..., 0.81099832, 0.81299425,\n",
       "        0.80498915],\n",
       "       [0.82924448, 0.82893577, 0.83844246, ..., 0.81299425, 0.80498915,\n",
       "        0.80949894]])"
      ]
     },
     "execution_count": 16,
     "metadata": {},
     "output_type": "execute_result"
    }
   ],
   "source": [
    "X_train"
   ]
  },
  {
   "cell_type": "code",
   "execution_count": 17,
   "metadata": {},
   "outputs": [],
   "source": [
    "# Reshaping\n",
    "X_train = np.reshape(X_train, (X_train.shape[0], X_train.shape[1], 1))"
   ]
  },
  {
   "cell_type": "code",
   "execution_count": 18,
   "metadata": {},
   "outputs": [
    {
     "data": {
      "text/plain": [
       "array([[[0.67542444],\n",
       "        [0.68452524],\n",
       "        [0.69569057],\n",
       "        ...,\n",
       "        [0.76438801],\n",
       "        [0.78081281],\n",
       "        [0.78232803]],\n",
       "\n",
       "       [[0.68452524],\n",
       "        [0.69569057],\n",
       "        [0.71463847],\n",
       "        ...,\n",
       "        [0.78081281],\n",
       "        [0.78232803],\n",
       "        [0.77600754]],\n",
       "\n",
       "       [[0.69569057],\n",
       "        [0.71463847],\n",
       "        [0.72581178],\n",
       "        ...,\n",
       "        [0.78232803],\n",
       "        [0.77600754],\n",
       "        [0.78193468]],\n",
       "\n",
       "       ...,\n",
       "\n",
       "       [[0.85369376],\n",
       "        [0.83734773],\n",
       "        [0.82924448],\n",
       "        ...,\n",
       "        [0.81169949],\n",
       "        [0.81099832],\n",
       "        [0.81299425]],\n",
       "\n",
       "       [[0.83734773],\n",
       "        [0.82924448],\n",
       "        [0.82893577],\n",
       "        ...,\n",
       "        [0.81099832],\n",
       "        [0.81299425],\n",
       "        [0.80498915]],\n",
       "\n",
       "       [[0.82924448],\n",
       "        [0.82893577],\n",
       "        [0.83844246],\n",
       "        ...,\n",
       "        [0.81299425],\n",
       "        [0.80498915],\n",
       "        [0.80949894]]])"
      ]
     },
     "execution_count": 18,
     "metadata": {},
     "output_type": "execute_result"
    }
   ],
   "source": [
    "X_train"
   ]
  },
  {
   "cell_type": "markdown",
   "metadata": {},
   "source": [
    "# Building the RNN - LSTM"
   ]
  },
  {
   "cell_type": "markdown",
   "metadata": {},
   "source": [
    "\n",
    "## Importing the Keras libraries and packages"
   ]
  },
  {
   "cell_type": "code",
   "execution_count": 1,
   "metadata": {},
   "outputs": [
    {
     "name": "stderr",
     "output_type": "stream",
     "text": [
      "Using TensorFlow backend.\n"
     ]
    }
   ],
   "source": [
    "from keras.models import Sequential\n",
    "from keras.layers import Dense\n",
    "from keras.layers import LSTM\n",
    "from keras.layers import Dropout"
   ]
  },
  {
   "cell_type": "markdown",
   "metadata": {},
   "source": [
    "## Initialising the RNN"
   ]
  },
  {
   "cell_type": "code",
   "execution_count": 20,
   "metadata": {},
   "outputs": [],
   "source": [
    "regressor = Sequential()"
   ]
  },
  {
   "cell_type": "markdown",
   "metadata": {},
   "source": [
    "## Adding the first LSTM layer and some Dropout regularisation"
   ]
  },
  {
   "cell_type": "code",
   "execution_count": 21,
   "metadata": {},
   "outputs": [],
   "source": [
    "regressor.add(LSTM(units = 30, return_sequences = True, input_shape = (X_train.shape[1], 1)))\n",
    "regressor.add(Dropout(0.2))"
   ]
  },
  {
   "cell_type": "markdown",
   "metadata": {},
   "source": [
    "## Adding the second LSTM layer and some Dropout regularisation"
   ]
  },
  {
   "cell_type": "code",
   "execution_count": 22,
   "metadata": {},
   "outputs": [],
   "source": [
    "regressor.add(LSTM(units = 30, return_sequences = True))\n",
    "regressor.add(Dropout(0.2))"
   ]
  },
  {
   "cell_type": "markdown",
   "metadata": {},
   "source": [
    "## Adding a third LSTM layer and some Dropout regularisation"
   ]
  },
  {
   "cell_type": "code",
   "execution_count": 23,
   "metadata": {},
   "outputs": [],
   "source": [
    "regressor.add(LSTM(units = 30, return_sequences = True))\n",
    "regressor.add(Dropout(0.2))\n"
   ]
  },
  {
   "cell_type": "markdown",
   "metadata": {},
   "source": [
    "## Adding a fourth LSTM layer and some Dropout regularisation"
   ]
  },
  {
   "cell_type": "code",
   "execution_count": 24,
   "metadata": {},
   "outputs": [],
   "source": [
    "regressor.add(LSTM(units = 50))\n",
    "regressor.add(Dropout(0.3))"
   ]
  },
  {
   "cell_type": "markdown",
   "metadata": {},
   "source": [
    "## Adding the output layer"
   ]
  },
  {
   "cell_type": "code",
   "execution_count": 83,
   "metadata": {},
   "outputs": [],
   "source": [
    "regressor.add(Dense(units = 1))\n"
   ]
  },
  {
   "cell_type": "markdown",
   "metadata": {},
   "source": [
    "## Compiling the RNN, setting loss function to MSE"
   ]
  },
  {
   "cell_type": "code",
   "execution_count": 84,
   "metadata": {},
   "outputs": [],
   "source": [
    "regressor.compile(optimizer = 'adam', loss = 'mean_squared_error')"
   ]
  },
  {
   "cell_type": "markdown",
   "metadata": {},
   "source": [
    "## Fitting the RNN to the Training set over 100 epochs"
   ]
  },
  {
   "cell_type": "code",
   "execution_count": 101,
   "metadata": {},
   "outputs": [
    {
     "name": "stdout",
     "output_type": "stream",
     "text": [
      "Epoch 1/100\n",
      "15837/15837 [==============================] - 40s 3ms/step - loss: 6.0302e-04\n",
      "Epoch 2/100\n",
      "15837/15837 [==============================] - 40s 3ms/step - loss: 5.2528e-04\n",
      "Epoch 3/100\n",
      "15837/15837 [==============================] - 46s 3ms/step - loss: 5.1612e-04\n",
      "Epoch 4/100\n",
      "15837/15837 [==============================] - 41s 3ms/step - loss: 4.5426e-04\n",
      "Epoch 5/100\n",
      "15837/15837 [==============================] - 43s 3ms/step - loss: 3.9807e-04: 1s - loss: 4.01 - ETA: 0s - loss:\n",
      "Epoch 6/100\n",
      "15837/15837 [==============================] - 45s 3ms/step - loss: 4.0763e-04: \n",
      "Epoch 7/100\n",
      "15837/15837 [==============================] - 41s 3ms/step - loss: 3.5250e-04\n",
      "Epoch 8/100\n",
      "15837/15837 [==============================] - 40s 3ms/step - loss: 3.4327e-04\n",
      "Epoch 9/100\n",
      "15837/15837 [==============================] - 42s 3ms/step - loss: 3.4085e-04\n",
      "Epoch 10/100\n",
      "15837/15837 [==============================] - 38s 2ms/step - loss: 3.1036e-04\n",
      "Epoch 11/100\n",
      "15837/15837 [==============================] - 37s 2ms/step - loss: 3.3259e-04\n",
      "Epoch 12/100\n",
      "15837/15837 [==============================] - 37s 2ms/step - loss: 3.6113e-04\n",
      "Epoch 13/100\n",
      "15837/15837 [==============================] - 39s 2ms/step - loss: 3.1545e-04\n",
      "Epoch 14/100\n",
      "15837/15837 [==============================] - 41s 3ms/step - loss: 3.1511e-04\n",
      "Epoch 15/100\n",
      "15837/15837 [==============================] - 38s 2ms/step - loss: 3.3191e-04\n",
      "Epoch 16/100\n",
      "15837/15837 [==============================] - 40s 3ms/step - loss: 3.2492e-04\n",
      "Epoch 17/100\n",
      "15837/15837 [==============================] - 40s 2ms/step - loss: 3.1159e-04\n",
      "Epoch 18/100\n",
      "15837/15837 [==============================] - 44s 3ms/step - loss: 3.0729e-04\n",
      "Epoch 19/100\n",
      "15837/15837 [==============================] - 45s 3ms/step - loss: 3.0391e-04\n",
      "Epoch 20/100\n",
      "15837/15837 [==============================] - 75s 5ms/step - loss: 2.8243e-04\n",
      "Epoch 21/100\n",
      "15837/15837 [==============================] - 64s 4ms/step - loss: 3.0134e-04\n",
      "Epoch 22/100\n",
      "15837/15837 [==============================] - 65s 4ms/step - loss: 2.8949e-04\n",
      "Epoch 23/100\n",
      "15837/15837 [==============================] - 65s 4ms/step - loss: 2.7716e-04\n",
      "Epoch 24/100\n",
      "15837/15837 [==============================] - 65s 4ms/step - loss: 2.8275e-04\n",
      "Epoch 25/100\n",
      "15837/15837 [==============================] - 65s 4ms/step - loss: 2.7539e-04\n",
      "Epoch 26/100\n",
      "15837/15837 [==============================] - 61s 4ms/step - loss: 2.6800e-04\n",
      "Epoch 27/100\n",
      "15837/15837 [==============================] - 64s 4ms/step - loss: 2.7473e-04\n",
      "Epoch 28/100\n",
      "15837/15837 [==============================] - 65s 4ms/step - loss: 2.8411e-04\n",
      "Epoch 29/100\n",
      "15837/15837 [==============================] - 64s 4ms/step - loss: 2.7011e-04\n",
      "Epoch 30/100\n",
      "15837/15837 [==============================] - 65s 4ms/step - loss: 2.6971e-04\n",
      "Epoch 31/100\n",
      "15837/15837 [==============================] - 65s 4ms/step - loss: 2.7839e-04\n",
      "Epoch 32/100\n",
      "15837/15837 [==============================] - 65s 4ms/step - loss: 2.7219e-04\n",
      "Epoch 33/100\n",
      "15837/15837 [==============================] - 64s 4ms/step - loss: 2.5739e-04\n",
      "Epoch 34/100\n",
      "15837/15837 [==============================] - 64s 4ms/step - loss: 2.6724e-04\n",
      "Epoch 35/100\n",
      "15837/15837 [==============================] - 64s 4ms/step - loss: 2.9129e-04\n",
      "Epoch 36/100\n",
      "15837/15837 [==============================] - 64s 4ms/step - loss: 2.6511e-04\n",
      "Epoch 37/100\n",
      "15837/15837 [==============================] - 66s 4ms/step - loss: 2.4939e-04\n",
      "Epoch 38/100\n",
      "15837/15837 [==============================] - 65s 4ms/step - loss: 2.5550e-04\n",
      "Epoch 39/100\n",
      "15837/15837 [==============================] - 64s 4ms/step - loss: 2.7362e-04\n",
      "Epoch 40/100\n",
      "15837/15837 [==============================] - 64s 4ms/step - loss: 2.5679e-04\n",
      "Epoch 41/100\n",
      "15837/15837 [==============================] - 57s 4ms/step - loss: 2.4987e-04\n",
      "Epoch 42/100\n",
      "15837/15837 [==============================] - 63s 4ms/step - loss: 2.7220e-04\n",
      "Epoch 43/100\n",
      "15837/15837 [==============================] - 65s 4ms/step - loss: 2.6271e-04\n",
      "Epoch 44/100\n",
      "15837/15837 [==============================] - 68s 4ms/step - loss: 2.5293e-04\n",
      "Epoch 45/100\n",
      "15837/15837 [==============================] - 65s 4ms/step - loss: 2.7188e-04\n",
      "Epoch 46/100\n",
      "15837/15837 [==============================] - 60s 4ms/step - loss: 2.7014e-04\n",
      "Epoch 47/100\n",
      "15837/15837 [==============================] - 60s 4ms/step - loss: 2.5093e-04\n",
      "Epoch 48/100\n",
      "15837/15837 [==============================] - 59s 4ms/step - loss: 2.3746e-04\n",
      "Epoch 49/100\n",
      "15837/15837 [==============================] - 58s 4ms/step - loss: 2.4345e-04\n",
      "Epoch 50/100\n",
      "15837/15837 [==============================] - 64s 4ms/step - loss: 2.5516e-04\n",
      "Epoch 51/100\n",
      "15837/15837 [==============================] - 65s 4ms/step - loss: 2.4454e-04\n",
      "Epoch 52/100\n",
      "15837/15837 [==============================] - 64s 4ms/step - loss: 2.4977e-04\n",
      "Epoch 53/100\n",
      "15837/15837 [==============================] - 65s 4ms/step - loss: 2.6619e-04\n",
      "Epoch 54/100\n",
      "15837/15837 [==============================] - 63s 4ms/step - loss: 2.5210e-04\n",
      "Epoch 55/100\n",
      "15837/15837 [==============================] - 64s 4ms/step - loss: 2.4194e-04\n",
      "Epoch 56/100\n",
      "15837/15837 [==============================] - 59s 4ms/step - loss: 2.4272e-04\n",
      "Epoch 57/100\n",
      "15837/15837 [==============================] - 63s 4ms/step - loss: 2.4051e-04\n",
      "Epoch 58/100\n",
      "15837/15837 [==============================] - 63s 4ms/step - loss: 2.6657e-04\n",
      "Epoch 59/100\n",
      "15837/15837 [==============================] - 61s 4ms/step - loss: 2.4728e-04\n",
      "Epoch 60/100\n",
      "15837/15837 [==============================] - 62s 4ms/step - loss: 2.5912e-04\n",
      "Epoch 61/100\n",
      "15837/15837 [==============================] - 64s 4ms/step - loss: 2.4306e-04\n",
      "Epoch 62/100\n",
      "15837/15837 [==============================] - 65s 4ms/step - loss: 2.6583e-04\n",
      "Epoch 63/100\n",
      "15837/15837 [==============================] - 63s 4ms/step - loss: 2.3160e-04\n",
      "Epoch 64/100\n",
      "15837/15837 [==============================] - 62s 4ms/step - loss: 2.4389e-04\n",
      "Epoch 65/100\n",
      "15837/15837 [==============================] - 64s 4ms/step - loss: 2.4903e-04\n",
      "Epoch 66/100\n",
      "15837/15837 [==============================] - 65s 4ms/step - loss: 2.4093e-04\n",
      "Epoch 67/100\n",
      "15837/15837 [==============================] - 63s 4ms/step - loss: 2.6147e-04\n",
      "Epoch 68/100\n",
      "15837/15837 [==============================] - 63s 4ms/step - loss: 2.5302e-04\n",
      "Epoch 69/100\n",
      "15837/15837 [==============================] - 65s 4ms/step - loss: 2.4105e-04\n",
      "Epoch 70/100\n",
      "15837/15837 [==============================] - 63s 4ms/step - loss: 2.3702e-04\n",
      "Epoch 71/100\n",
      "15837/15837 [==============================] - 65s 4ms/step - loss: 2.4638e-04\n",
      "Epoch 72/100\n",
      "15837/15837 [==============================] - 63s 4ms/step - loss: 2.4465e-04\n",
      "Epoch 73/100\n",
      "15837/15837 [==============================] - 63s 4ms/step - loss: 2.3152e-04\n",
      "Epoch 74/100\n",
      "15837/15837 [==============================] - 64s 4ms/step - loss: 2.4542e-04\n",
      "Epoch 75/100\n",
      "15837/15837 [==============================] - 63s 4ms/step - loss: 2.3219e-04\n",
      "Epoch 76/100\n",
      "15837/15837 [==============================] - 63s 4ms/step - loss: 2.3473e-04\n",
      "Epoch 77/100\n",
      "15837/15837 [==============================] - 60s 4ms/step - loss: 2.4359e-04\n",
      "Epoch 78/100\n",
      "15837/15837 [==============================] - 59s 4ms/step - loss: 2.3258e-04\n",
      "Epoch 79/100\n",
      "15837/15837 [==============================] - 63s 4ms/step - loss: 2.2897e-04\n",
      "Epoch 80/100\n",
      "15837/15837 [==============================] - 63s 4ms/step - loss: 2.3642e-04\n",
      "Epoch 81/100\n",
      "15837/15837 [==============================] - 63s 4ms/step - loss: 2.4226e-04\n",
      "Epoch 82/100\n",
      "15837/15837 [==============================] - 64s 4ms/step - loss: 2.4834e-04\n",
      "Epoch 83/100\n",
      "15837/15837 [==============================] - 64s 4ms/step - loss: 2.3980e-04\n",
      "Epoch 84/100\n",
      "15837/15837 [==============================] - 64s 4ms/step - loss: 2.4371e-04\n",
      "Epoch 85/100\n",
      "15837/15837 [==============================] - 63s 4ms/step - loss: 2.3051e-04\n",
      "Epoch 86/100\n",
      "15837/15837 [==============================] - 64s 4ms/step - loss: 2.2577e-04\n",
      "Epoch 87/100\n",
      "15837/15837 [==============================] - 63s 4ms/step - loss: 2.5264e-04\n",
      "Epoch 88/100\n",
      "15837/15837 [==============================] - 64s 4ms/step - loss: 2.3604e-04\n",
      "Epoch 89/100\n",
      "15837/15837 [==============================] - 66s 4ms/step - loss: 2.2979e-04\n",
      "Epoch 90/100\n",
      "15837/15837 [==============================] - 66s 4ms/step - loss: 2.4241e-04\n",
      "Epoch 91/100\n",
      "15837/15837 [==============================] - 67s 4ms/step - loss: 2.3247e-04\n",
      "Epoch 92/100\n",
      "15837/15837 [==============================] - 66s 4ms/step - loss: 2.3176e-04\n",
      "Epoch 93/100\n",
      "15837/15837 [==============================] - 67s 4ms/step - loss: 2.3232e-04\n",
      "Epoch 94/100\n",
      "15837/15837 [==============================] - 67s 4ms/step - loss: 2.3120e-04\n",
      "Epoch 95/100\n",
      "15837/15837 [==============================] - 66s 4ms/step - loss: 2.2701e-04\n",
      "Epoch 96/100\n",
      "15837/15837 [==============================] - 66s 4ms/step - loss: 2.2704e-04\n",
      "Epoch 97/100\n",
      "15837/15837 [==============================] - 68s 4ms/step - loss: 2.1879e-04\n",
      "Epoch 98/100\n",
      "15837/15837 [==============================] - 71s 4ms/step - loss: 2.2200e-04\n",
      "Epoch 99/100\n",
      "15837/15837 [==============================] - 71s 4ms/step - loss: 2.3432e-04\n",
      "Epoch 100/100\n",
      "15837/15837 [==============================] - 68s 4ms/step - loss: 2.3528e-04\n"
     ]
    },
    {
     "data": {
      "text/plain": [
       "<keras.callbacks.History at 0x29156072390>"
      ]
     },
     "execution_count": 101,
     "metadata": {},
     "output_type": "execute_result"
    }
   ],
   "source": [
    "\n",
    "regressor.fit(X_train, y_train, epochs = 100, batch_size = 32)\n"
   ]
  },
  {
   "cell_type": "code",
   "execution_count": null,
   "metadata": {},
   "outputs": [],
   "source": [
    "\n"
   ]
  },
  {
   "cell_type": "code",
   "execution_count": 102,
   "metadata": {},
   "outputs": [],
   "source": [
    "# Getting the predictions\n",
    "dataset_total = pd.concat((dataset_train['value'], dataset_test['value']), axis = 0)\n",
    "inputs = dataset_total[len(dataset_total) - len(dataset_test) - 15887:].values\n",
    "inputs = inputs.reshape(-1,1)\n",
    "inputs = sc.transform(inputs)\n",
    "X_test = []\n",
    "for i in range(50,6808):\n",
    "    X_test.append(inputs[i-50:i, 0])\n",
    "X_test = np.array(X_test)\n",
    "X_test = np.reshape(X_test, (X_test.shape[0], X_test.shape[1], 1))\n",
    "predicted_machine_temp = regressor.predict(X_test)\n",
    "predicted_machine_temp = sc.inverse_transform(predicted_machine_temp)"
   ]
  },
  {
   "cell_type": "code",
   "execution_count": 103,
   "metadata": {},
   "outputs": [
    {
     "data": {
      "image/png": "[encoded data removed]",
      "text/plain": [
       "<Figure size 432x288 with 1 Axes>"
      ]
     },
     "metadata": {
      "needs_background": "light"
     },
     "output_type": "display_data"
    },
    {
     "data": {
      "text/plain": [
       "<Figure size 432x288 with 0 Axes>"
      ]
     },
     "metadata": {},
     "output_type": "display_data"
    }
   ],
   "source": [
    "# Visualising the results\n",
    "plt.plot(test_set, color = 'red', label = 'Real Temp')\n",
    "plt.plot(predicted_machine_temp, color = 'blue', label = 'Predicted Temp')\n",
    "plt.title('Machine Failure Prediction')\n",
    "plt.xlabel('Time')\n",
    "plt.ylabel('Machine Temp')\n",
    "plt.legend()\n",
    "plt.show()\n",
    "plt.savefig('machine_lstm_100_epochs.png')"
   ]
  },
  {
   "cell_type": "code",
   "execution_count": null,
   "metadata": {},
   "outputs": [],
   "source": []
  },
  {
   "cell_type": "code",
   "execution_count": 100,
   "metadata": {},
   "outputs": [
    {
     "data": {
      "image/png": "[encoded data removed]",
      "text/plain": [
       "<Figure size 432x288 with 1 Axes>"
      ]
     },
     "metadata": {
      "needs_background": "light"
     },
     "output_type": "display_data"
    },
    {
     "data": {
      "text/plain": [
       "<Figure size 432x288 with 0 Axes>"
      ]
     },
     "metadata": {},
     "output_type": "display_data"
    }
   ],
   "source": [
    "# Visualising the results\n",
    "plt.plot(test_set, color = 'red', label = 'Real Temp')\n",
    "plt.plot(predicted_machine_temp, color = 'blue', label = 'Predicted Temp')\n",
    "plt.title('Machine Failure Prediction')\n",
    "plt.xlabel('Time')\n",
    "plt.ylabel('Machine Temp')\n",
    "plt.legend()\n",
    "plt.show()\n",
    "plt.savefig('machine_lstm_pred1.png')\n"
   ]
  },
  {
   "cell_type": "code",
   "execution_count": 94,
   "metadata": {},
   "outputs": [
    {
     "data": {
      "text/plain": [
       "array([[84.24568 ],\n",
       "       [84.50657 ],\n",
       "       [84.80601 ],\n",
       "       [85.0659  ],\n",
       "       [85.2338  ],\n",
       "       [85.25897 ],\n",
       "       [85.19692 ],\n",
       "       [85.12355 ],\n",
       "       [85.07822 ],\n",
       "       [85.06591 ],\n",
       "       [85.095825],\n",
       "       [85.140785],\n",
       "       [85.17719 ],\n",
       "       [85.24386 ],\n",
       "       [85.37855 ],\n",
       "       [85.58412 ],\n",
       "       [85.84543 ],\n",
       "       [86.11559 ],\n",
       "       [86.35822 ],\n",
       "       [86.54447 ]], dtype=float32)"
      ]
     },
     "execution_count": 94,
     "metadata": {},
     "output_type": "execute_result"
    }
   ],
   "source": [
    "predicted_machine_temp"
   ]
  },
  {
   "cell_type": "code",
   "execution_count": 51,
   "metadata": {},
   "outputs": [
    {
     "data": {
      "image/png": "[encoded data removed]",
      "text/plain": [
       "<Figure size 432x288 with 1 Axes>"
      ]
     },
     "metadata": {
      "needs_background": "light"
     },
     "output_type": "display_data"
    }
   ],
   "source": [
    "plt.plot(np.asarray(dataset_train['value']).reshape(-1,1), color = 'blue', label = 'Actual ')\n",
    "plt.plot(pred, color = 'red', label = 'Predicted ' ,linewidth=5)\n",
    "plt.title('Anomaly Detection')\n",
    "plt.xlabel('Time')\n",
    "plt.ylabel('Stock Price')\n",
    "plt.legend()\n",
    "plt.show()"
   ]
  },
  {
   "cell_type": "code",
   "execution_count": null,
   "metadata": {},
   "outputs": [],
   "source": [
    "sns.jointplot(x='sqft_living',y='price',data=house_data)\n",
    "\n",
    "plt.savefig(\"jp1\")"
   ]
  }
 ],
 "metadata": {
  "kernelspec": {
   "display_name": "Python 3",
   "language": "python",
   "name": "python3"
  },
  "language_info": {
   "codemirror_mode": {
    "name": "ipython",
    "version": 3
   },
   "file_extension": ".py",
   "mimetype": "text/x-python",
   "name": "python",
   "nbconvert_exporter": "python",
   "pygments_lexer": "ipython3",
   "version": "3.6.8"
  }
 },
 "nbformat": 4,
 "nbformat_minor": 2
}
